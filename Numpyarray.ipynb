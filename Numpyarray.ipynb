{
 "cells": [
  {
   "cell_type": "code",
   "execution_count": 1,
   "id": "cfa93ae5-e2af-4f6e-9a73-27744076e233",
   "metadata": {},
   "outputs": [
    {
     "name": "stdout",
     "output_type": "stream",
     "text": [
      "abc\n"
     ]
    }
   ],
   "source": [
    "print(\"abc\")"
   ]
  },
  {
   "cell_type": "code",
   "execution_count": 4,
   "id": "52a3903b-3929-4fcb-92ea-d8ed6a21b885",
   "metadata": {},
   "outputs": [
    {
     "data": {
      "text/plain": [
       "list"
      ]
     },
     "execution_count": 4,
     "metadata": {},
     "output_type": "execute_result"
    }
   ],
   "source": [
    "a = [2,3,4,56]\n",
    "type(a)\n"
   ]
  },
  {
   "cell_type": "code",
   "execution_count": 6,
   "id": "fdd4de9e-14ab-440b-8f94-6392fe2b0b96",
   "metadata": {},
   "outputs": [
    {
     "data": {
      "text/plain": [
       "numpy.ndarray"
      ]
     },
     "execution_count": 6,
     "metadata": {},
     "output_type": "execute_result"
    }
   ],
   "source": [
    "import numpy as np\n",
    "a1 = np.array([8,6,3,4,5])\n",
    "type(a1)"
   ]
  },
  {
   "cell_type": "code",
   "execution_count": 13,
   "id": "4fd390ff-2a67-4986-a8a0-418467bd1ebd",
   "metadata": {},
   "outputs": [
    {
     "data": {
      "text/plain": [
       "array(['8', '6', '3', '4', '5', 'abc'], dtype='<U21')"
      ]
     },
     "execution_count": 13,
     "metadata": {},
     "output_type": "execute_result"
    }
   ],
   "source": [
    "a2 = np.array([8,6,3,4,5,\"abc\"])\n",
    "a2"
   ]
  },
  {
   "cell_type": "code",
   "execution_count": null,
   "id": "23b37095-b9bf-4cee-acca-f76d93161df3",
   "metadata": {},
   "outputs": [],
   "source": [
    "# different way to create array 1. arange(start , stop, step )\n"
   ]
  },
  {
   "cell_type": "code",
   "execution_count": 14,
   "id": "140cddcc-9a00-4a48-b47a-cb3bc924e68c",
   "metadata": {},
   "outputs": [
    {
     "data": {
      "text/plain": [
       "array([1, 3, 5, 7])"
      ]
     },
     "execution_count": 14,
     "metadata": {},
     "output_type": "execute_result"
    }
   ],
   "source": [
    "a3 = np.arange(1,9,2)\n",
    "a3"
   ]
  },
  {
   "cell_type": "code",
   "execution_count": 18,
   "id": "de812ccd-9499-4d6b-9188-8491c03bc290",
   "metadata": {},
   "outputs": [
    {
     "data": {
      "text/plain": [
       "array([1, 3, 5, 7])"
      ]
     },
     "execution_count": 18,
     "metadata": {},
     "output_type": "execute_result"
    }
   ],
   "source": [
    "a4 = np.arange(1,8,2)\n",
    "a4"
   ]
  },
  {
   "cell_type": "code",
   "execution_count": 17,
   "id": "b22252b1-0503-4008-9bb8-0c4e85868200",
   "metadata": {},
   "outputs": [
    {
     "data": {
      "text/plain": [
       "numpy.ndarray"
      ]
     },
     "execution_count": 17,
     "metadata": {},
     "output_type": "execute_result"
    }
   ],
   "source": [
    "type(a4)"
   ]
  },
  {
   "cell_type": "code",
   "execution_count": 19,
   "id": "a0bf6db6-b961-4518-9d2b-4013aefca729",
   "metadata": {},
   "outputs": [
    {
     "data": {
      "text/plain": [
       "dtype('int64')"
      ]
     },
     "execution_count": 19,
     "metadata": {},
     "output_type": "execute_result"
    }
   ],
   "source": [
    "a4.dtype"
   ]
  },
  {
   "cell_type": "code",
   "execution_count": 22,
   "id": "adc9f817-4bb4-48fa-96c7-2a7850e1fa17",
   "metadata": {},
   "outputs": [
    {
     "data": {
      "text/plain": [
       "array([1. , 1.8, 2.6, 3.4, 4.2, 5. , 5.8, 6.6, 7.4, 8.2])"
      ]
     },
     "execution_count": 22,
     "metadata": {},
     "output_type": "execute_result"
    }
   ],
   "source": [
    "a5 = np.arange(1,9,0.8)\n",
    "a5"
   ]
  },
  {
   "cell_type": "markdown",
   "id": "d92dbb0d-c1ab-483d-996b-24347700ee5c",
   "metadata": {},
   "source": [
    "linspace"
   ]
  },
  {
   "cell_type": "code",
   "execution_count": 23,
   "id": "b619bd48-3e4b-46a2-a1ab-c7a52a56b16c",
   "metadata": {},
   "outputs": [
    {
     "data": {
      "text/plain": [
       "array([1.        , 1.72727273, 2.45454545, 3.18181818, 3.90909091,\n",
       "       4.63636364, 5.36363636, 6.09090909, 6.81818182, 7.54545455,\n",
       "       8.27272727, 9.        ])"
      ]
     },
     "execution_count": 23,
     "metadata": {},
     "output_type": "execute_result"
    }
   ],
   "source": [
    "a1 = np.linspace(1,9,12)\n",
    "a1"
   ]
  },
  {
   "cell_type": "code",
   "execution_count": 24,
   "id": "95dae0a3-11a0-407f-8f11-5bbd6b83ec59",
   "metadata": {},
   "outputs": [
    {
     "data": {
      "text/plain": [
       "array([1.        , 1.16326531, 1.32653061, 1.48979592, 1.65306122,\n",
       "       1.81632653, 1.97959184, 2.14285714, 2.30612245, 2.46938776,\n",
       "       2.63265306, 2.79591837, 2.95918367, 3.12244898, 3.28571429,\n",
       "       3.44897959, 3.6122449 , 3.7755102 , 3.93877551, 4.10204082,\n",
       "       4.26530612, 4.42857143, 4.59183673, 4.75510204, 4.91836735,\n",
       "       5.08163265, 5.24489796, 5.40816327, 5.57142857, 5.73469388,\n",
       "       5.89795918, 6.06122449, 6.2244898 , 6.3877551 , 6.55102041,\n",
       "       6.71428571, 6.87755102, 7.04081633, 7.20408163, 7.36734694,\n",
       "       7.53061224, 7.69387755, 7.85714286, 8.02040816, 8.18367347,\n",
       "       8.34693878, 8.51020408, 8.67346939, 8.83673469, 9.        ])"
      ]
     },
     "execution_count": 24,
     "metadata": {},
     "output_type": "execute_result"
    }
   ],
   "source": [
    "a1 = np.linspace(1,9)\n",
    "a1"
   ]
  },
  {
   "cell_type": "markdown",
   "id": "2c8a3943-5fb5-4b87-9ab3-e94d5f00d7be",
   "metadata": {},
   "source": [
    "logspace\n",
    "\n"
   ]
  },
  {
   "cell_type": "code",
   "execution_count": 25,
   "id": "f774b976-2e7e-48a8-96ae-301a24b39694",
   "metadata": {},
   "outputs": [
    {
     "data": {
      "text/plain": [
       "array([1.00000000e+01, 1.38949549e+02, 1.93069773e+03, 2.68269580e+04,\n",
       "       3.72759372e+05, 5.17947468e+06, 7.19685673e+07, 1.00000000e+09])"
      ]
     },
     "execution_count": 25,
     "metadata": {},
     "output_type": "execute_result"
    }
   ],
   "source": [
    "np.logspace(1,9,8)"
   ]
  },
  {
   "cell_type": "code",
   "execution_count": 26,
   "id": "f83c109b-55a4-4120-8da1-f2a25e3cd6d4",
   "metadata": {},
   "outputs": [
    {
     "data": {
      "text/plain": [
       "array([1.00000000e+01, 1.45634848e+01, 2.12095089e+01, 3.08884360e+01,\n",
       "       4.49843267e+01, 6.55128557e+01, 9.54095476e+01, 1.38949549e+02,\n",
       "       2.02358965e+02, 2.94705170e+02, 4.29193426e+02, 6.25055193e+02,\n",
       "       9.10298178e+02, 1.32571137e+03, 1.93069773e+03, 2.81176870e+03,\n",
       "       4.09491506e+03, 5.96362332e+03, 8.68511374e+03, 1.26485522e+04,\n",
       "       1.84206997e+04, 2.68269580e+04, 3.90693994e+04, 5.68986603e+04,\n",
       "       8.28642773e+04, 1.20679264e+05, 1.75751062e+05, 2.55954792e+05,\n",
       "       3.72759372e+05, 5.42867544e+05, 7.90604321e+05, 1.15139540e+06,\n",
       "       1.67683294e+06, 2.44205309e+06, 3.55648031e+06, 5.17947468e+06,\n",
       "       7.54312006e+06, 1.09854114e+07, 1.59985872e+07, 2.32995181e+07,\n",
       "       3.39322177e+07, 4.94171336e+07, 7.19685673e+07, 1.04811313e+08,\n",
       "       1.52641797e+08, 2.22299648e+08, 3.23745754e+08, 4.71486636e+08,\n",
       "       6.86648845e+08, 1.00000000e+09])"
      ]
     },
     "execution_count": 26,
     "metadata": {},
     "output_type": "execute_result"
    }
   ],
   "source": [
    "np.logspace(1,9)"
   ]
  },
  {
   "cell_type": "code",
   "execution_count": 27,
   "id": "a01d8d3a-4aeb-4406-b361-843df7b7b35f",
   "metadata": {},
   "outputs": [
    {
     "data": {
      "text/plain": [
       "array([0.+0.j, 0.+0.j, 0.+0.j, 0.+0.j, 0.+0.j])"
      ]
     },
     "execution_count": 27,
     "metadata": {},
     "output_type": "execute_result"
    }
   ],
   "source": [
    "np.zeros(5,dtype=\"complex\")"
   ]
  },
  {
   "cell_type": "code",
   "execution_count": 28,
   "id": "1cc5a6d9-23cf-41c5-b5c0-470603df458f",
   "metadata": {},
   "outputs": [
    {
     "data": {
      "text/plain": [
       "array(['1', '1', '1', '1', '1'], dtype='<U1')"
      ]
     },
     "execution_count": 28,
     "metadata": {},
     "output_type": "execute_result"
    }
   ],
   "source": [
    "np.ones(5,dtype=\"str\")"
   ]
  },
  {
   "cell_type": "markdown",
   "id": "53a7bb6f-b013-418f-87d1-717a1e29478d",
   "metadata": {},
   "source": [
    "2D ARRAY\n",
    "\n",
    "COLLECTIOM OF ONE DIMENSIONAL ARRAY"
   ]
  },
  {
   "cell_type": "code",
   "execution_count": 30,
   "id": "c7d8feb2-a763-43bd-bfd0-3cfca1e04f55",
   "metadata": {},
   "outputs": [],
   "source": [
    "a = np.array([22,33,44,55])"
   ]
  },
  {
   "cell_type": "code",
   "execution_count": 31,
   "id": "70b8d206-306e-4e91-9d69-53b9e2d936bd",
   "metadata": {},
   "outputs": [
    {
     "data": {
      "text/plain": [
       "array([22, 33, 44, 55])"
      ]
     },
     "execution_count": 31,
     "metadata": {},
     "output_type": "execute_result"
    }
   ],
   "source": [
    "a"
   ]
  },
  {
   "cell_type": "code",
   "execution_count": 32,
   "id": "caaf5b6e-2637-415e-811b-93a76409a995",
   "metadata": {},
   "outputs": [
    {
     "data": {
      "text/plain": [
       "1"
      ]
     },
     "execution_count": 32,
     "metadata": {},
     "output_type": "execute_result"
    }
   ],
   "source": [
    "a.ndim"
   ]
  },
  {
   "cell_type": "code",
   "execution_count": 39,
   "id": "913b9d03-3a39-45fd-a9d0-c567096b0fb7",
   "metadata": {},
   "outputs": [],
   "source": [
    "a = np.array([[22,33,44,55],[66,77,88,99],[96,65,64,69]])"
   ]
  },
  {
   "cell_type": "code",
   "execution_count": 40,
   "id": "fc806531-4704-4f52-9391-dbf856fa0381",
   "metadata": {},
   "outputs": [
    {
     "data": {
      "text/plain": [
       "array([[22, 33, 44, 55],\n",
       "       [66, 77, 88, 99],\n",
       "       [96, 65, 64, 69]])"
      ]
     },
     "execution_count": 40,
     "metadata": {},
     "output_type": "execute_result"
    }
   ],
   "source": [
    "a"
   ]
  },
  {
   "cell_type": "code",
   "execution_count": 41,
   "id": "97dc9d54-a33f-4443-8c8d-19eb8ef4cf1d",
   "metadata": {},
   "outputs": [
    {
     "data": {
      "text/plain": [
       "2"
      ]
     },
     "execution_count": 41,
     "metadata": {},
     "output_type": "execute_result"
    }
   ],
   "source": [
    "a.ndim"
   ]
  },
  {
   "cell_type": "code",
   "execution_count": 42,
   "id": "04308bce-368c-47ff-b590-28d4ca245450",
   "metadata": {},
   "outputs": [
    {
     "data": {
      "text/plain": [
       "array([66, 77, 88, 99])"
      ]
     },
     "execution_count": 42,
     "metadata": {},
     "output_type": "execute_result"
    }
   ],
   "source": [
    "a[1]"
   ]
  },
  {
   "cell_type": "code",
   "execution_count": 44,
   "id": "2e411b3b-55b2-4f83-81da-ee0e76fb14ab",
   "metadata": {},
   "outputs": [
    {
     "data": {
      "text/plain": [
       "array([96, 65, 64, 69])"
      ]
     },
     "execution_count": 44,
     "metadata": {},
     "output_type": "execute_result"
    }
   ],
   "source": [
    "a[-1]"
   ]
  },
  {
   "cell_type": "code",
   "execution_count": 45,
   "id": "403d9d32-affe-44c2-b6d8-943d9ef1ac61",
   "metadata": {},
   "outputs": [
    {
     "data": {
      "text/plain": [
       "array([77, 88])"
      ]
     },
     "execution_count": 45,
     "metadata": {},
     "output_type": "execute_result"
    }
   ],
   "source": [
    "a[1][1:3]"
   ]
  },
  {
   "cell_type": "code",
   "execution_count": 46,
   "id": "fc1c7381-f969-462a-84d0-051c8345ccb1",
   "metadata": {},
   "outputs": [
    {
     "data": {
      "text/plain": [
       "np.int64(77)"
      ]
     },
     "execution_count": 46,
     "metadata": {},
     "output_type": "execute_result"
    }
   ],
   "source": [
    "a[1][1]"
   ]
  },
  {
   "cell_type": "code",
   "execution_count": 48,
   "id": "63a1b4c8-cd29-4b7e-970e-c8554fbf0c59",
   "metadata": {},
   "outputs": [
    {
     "data": {
      "text/plain": [
       "array([[77]])"
      ]
     },
     "execution_count": 48,
     "metadata": {},
     "output_type": "execute_result"
    }
   ],
   "source": [
    "a[1:2,1:2]"
   ]
  },
  {
   "cell_type": "markdown",
   "id": "8cb041df-e15d-4370-b262-b9e6e6d03544",
   "metadata": {},
   "source": [
    "SLICING"
   ]
  },
  {
   "cell_type": "markdown",
   "id": "4cac0000-1ac0-4e90-9373-edaee6aba77e",
   "metadata": {},
   "source": []
  },
  {
   "cell_type": "code",
   "execution_count": 50,
   "id": "b47ceeb0-a6d4-4e8e-8df5-953e430002fc",
   "metadata": {},
   "outputs": [
    {
     "data": {
      "text/plain": [
       "array([[22, 33, 44, 55],\n",
       "       [66, 77, 88, 99]])"
      ]
     },
     "execution_count": 50,
     "metadata": {},
     "output_type": "execute_result"
    }
   ],
   "source": [
    "a[0:2:1]"
   ]
  },
  {
   "cell_type": "code",
   "execution_count": 51,
   "id": "363a1378-8d38-4b54-8686-b4d798c60cbc",
   "metadata": {},
   "outputs": [
    {
     "data": {
      "text/plain": [
       "array([[33, 44],\n",
       "       [77, 88]])"
      ]
     },
     "execution_count": 51,
     "metadata": {},
     "output_type": "execute_result"
    }
   ],
   "source": [
    "a[0:2:1,1:3:1]"
   ]
  },
  {
   "cell_type": "code",
   "execution_count": 52,
   "id": "9b3e00b8-0d2a-44e4-b9c8-67bf7793c023",
   "metadata": {},
   "outputs": [
    {
     "data": {
      "text/plain": [
       "array([[22, 33, 44, 55],\n",
       "       [96, 65, 64, 69]])"
      ]
     },
     "execution_count": 52,
     "metadata": {},
     "output_type": "execute_result"
    }
   ],
   "source": [
    "a[ : :2]"
   ]
  },
  {
   "cell_type": "code",
   "execution_count": 55,
   "id": "6394ab9c-fc4e-486b-89ab-5fff81a94d99",
   "metadata": {},
   "outputs": [
    {
     "data": {
      "text/plain": [
       "array([[22, 55],\n",
       "       [96, 69]])"
      ]
     },
     "execution_count": 55,
     "metadata": {},
     "output_type": "execute_result"
    }
   ],
   "source": [
    "a[ : :2 ,: : 3]"
   ]
  },
  {
   "cell_type": "code",
   "execution_count": 56,
   "id": "a157787d-84e2-4c64-adba-39c2b2ad5ae7",
   "metadata": {},
   "outputs": [
    {
     "data": {
      "text/plain": [
       "array([[22, 33, 44, 55],\n",
       "       [66, 77, 88, 99],\n",
       "       [96, 65, 64, 69]])"
      ]
     },
     "execution_count": 56,
     "metadata": {},
     "output_type": "execute_result"
    }
   ],
   "source": [
    "a"
   ]
  },
  {
   "cell_type": "code",
   "execution_count": 57,
   "id": "b4ef5dae-f612-4137-ae06-69f02a6f34a9",
   "metadata": {},
   "outputs": [
    {
     "data": {
      "text/plain": [
       "(3, 4)"
      ]
     },
     "execution_count": 57,
     "metadata": {},
     "output_type": "execute_result"
    }
   ],
   "source": [
    "a.shape"
   ]
  },
  {
   "cell_type": "code",
   "execution_count": 59,
   "id": "73231691-d13e-498e-ad2a-318981ca4e67",
   "metadata": {},
   "outputs": [
    {
     "data": {
      "text/plain": [
       "array([22, 33, 44, 55, 66, 77, 88, 99, 96, 65, 64, 69])"
      ]
     },
     "execution_count": 59,
     "metadata": {},
     "output_type": "execute_result"
    }
   ],
   "source": [
    "a.ravel()"
   ]
  },
  {
   "cell_type": "code",
   "execution_count": 61,
   "id": "09ef75ef-a107-458e-b775-f079b3ef4cd1",
   "metadata": {},
   "outputs": [
    {
     "data": {
      "text/plain": [
       "12"
      ]
     },
     "execution_count": 61,
     "metadata": {},
     "output_type": "execute_result"
    }
   ],
   "source": [
    "a.size"
   ]
  },
  {
   "cell_type": "code",
   "execution_count": 62,
   "id": "1e4ff529-3595-4930-bb50-5e20e7501d1c",
   "metadata": {},
   "outputs": [
    {
     "data": {
      "text/plain": [
       "array([[22, 33, 44, 55],\n",
       "       [66, 77, 88, 99],\n",
       "       [96, 65, 64, 69]])"
      ]
     },
     "execution_count": 62,
     "metadata": {},
     "output_type": "execute_result"
    }
   ],
   "source": [
    "a"
   ]
  },
  {
   "cell_type": "code",
   "execution_count": 63,
   "id": "72feac80-afb1-42cb-abbc-8935a49634e5",
   "metadata": {},
   "outputs": [
    {
     "data": {
      "text/plain": [
       "array([[22, 33],\n",
       "       [44, 55],\n",
       "       [66, 77],\n",
       "       [88, 99],\n",
       "       [96, 65],\n",
       "       [64, 69]])"
      ]
     },
     "execution_count": 63,
     "metadata": {},
     "output_type": "execute_result"
    }
   ],
   "source": [
    "a.reshape(6,2)"
   ]
  },
  {
   "cell_type": "code",
   "execution_count": 67,
   "id": "bc32f9d2-c125-4127-bd75-443d0701c02f",
   "metadata": {},
   "outputs": [
    {
     "data": {
      "text/plain": [
       "array([[22, 33, 44, 55, 66, 77],\n",
       "       [88, 99, 96, 65, 64, 69]])"
      ]
     },
     "execution_count": 67,
     "metadata": {},
     "output_type": "execute_result"
    }
   ],
   "source": [
    "a.reshape(2,6)"
   ]
  },
  {
   "cell_type": "markdown",
   "id": "9a8d5cab-735a-4edd-86e3-ac0429a139e1",
   "metadata": {},
   "source": [
    "arange() IT IS USEFOR CREATING A 2D ARRAY"
   ]
  },
  {
   "cell_type": "code",
   "execution_count": 70,
   "id": "5885e4d8-651a-4d3a-9e14-33c9872f1a69",
   "metadata": {},
   "outputs": [
    {
     "data": {
      "text/plain": [
       "array([[0, 1],\n",
       "       [2, 3],\n",
       "       [4, 5],\n",
       "       [6, 7]])"
      ]
     },
     "execution_count": 70,
     "metadata": {},
     "output_type": "execute_result"
    }
   ],
   "source": [
    "np.arange(8).reshape(4,2)"
   ]
  },
  {
   "cell_type": "code",
   "execution_count": 72,
   "id": "b321b5f4-6a71-46f6-8caf-49e1ad1cc190",
   "metadata": {},
   "outputs": [
    {
     "data": {
      "text/plain": [
       "array([[ 1.,  2.,  3.,  4.],\n",
       "       [ 5.,  6.,  7.,  8.],\n",
       "       [ 9., 10., 11., 12.],\n",
       "       [13., 14., 15., 16.],\n",
       "       [17., 18., 19., 20.]])"
      ]
     },
     "execution_count": 72,
     "metadata": {},
     "output_type": "execute_result"
    }
   ],
   "source": [
    "np.linspace(1,20,20).reshape(5,4)"
   ]
  },
  {
   "cell_type": "code",
   "execution_count": 76,
   "id": "6d063c39-009a-41c1-9fb7-e2cecb9235b3",
   "metadata": {},
   "outputs": [],
   "source": [
    "a=np.arange(30).reshape(3,2,5)"
   ]
  },
  {
   "cell_type": "code",
   "execution_count": 77,
   "id": "4dae26e1-b32f-4641-b17d-346b7d0239f5",
   "metadata": {},
   "outputs": [
    {
     "data": {
      "text/plain": [
       "array([[[ 0,  1,  2,  3,  4],\n",
       "        [ 5,  6,  7,  8,  9]],\n",
       "\n",
       "       [[10, 11, 12, 13, 14],\n",
       "        [15, 16, 17, 18, 19]],\n",
       "\n",
       "       [[20, 21, 22, 23, 24],\n",
       "        [25, 26, 27, 28, 29]]])"
      ]
     },
     "execution_count": 77,
     "metadata": {},
     "output_type": "execute_result"
    }
   ],
   "source": [
    "a"
   ]
  },
  {
   "cell_type": "code",
   "execution_count": 78,
   "id": "d8288590-f394-4c8b-8132-2f537a057636",
   "metadata": {},
   "outputs": [
    {
     "data": {
      "text/plain": [
       "3"
      ]
     },
     "execution_count": 78,
     "metadata": {},
     "output_type": "execute_result"
    }
   ],
   "source": [
    "\n",
    "a.ndim\n"
   ]
  },
  {
   "cell_type": "code",
   "execution_count": 79,
   "id": "3b1cbd62-406e-425c-b0d4-2bcb6dc635f8",
   "metadata": {},
   "outputs": [
    {
     "data": {
      "text/plain": [
       "(3, 2, 5)"
      ]
     },
     "execution_count": 79,
     "metadata": {},
     "output_type": "execute_result"
    }
   ],
   "source": [
    "a.shape"
   ]
  },
  {
   "cell_type": "code",
   "execution_count": 80,
   "id": "6ac7f629-80f7-475f-bd1b-3147089fa734",
   "metadata": {},
   "outputs": [
    {
     "data": {
      "text/plain": [
       "array([[ 0,  1,  2,  3,  4,  5,  6,  7,  8,  9],\n",
       "       [10, 11, 12, 13, 14, 15, 16, 17, 18, 19],\n",
       "       [20, 21, 22, 23, 24, 25, 26, 27, 28, 29]])"
      ]
     },
     "execution_count": 80,
     "metadata": {},
     "output_type": "execute_result"
    }
   ],
   "source": [
    "a.reshape(3,10)"
   ]
  },
  {
   "cell_type": "markdown",
   "id": "0b0216c0-0cb8-4636-a375-47f12cc833c9",
   "metadata": {},
   "source": [
    "RESHAPE()"
   ]
  },
  {
   "cell_type": "code",
   "execution_count": 3,
   "id": "da730504-da38-4300-b0b9-568122567ff1",
   "metadata": {},
   "outputs": [],
   "source": [
    "import numpy as np"
   ]
  },
  {
   "cell_type": "code",
   "execution_count": 4,
   "id": "91445727-418c-4046-ba9a-2eb439828930",
   "metadata": {},
   "outputs": [],
   "source": [
    "a = np.arange(12)"
   ]
  },
  {
   "cell_type": "code",
   "execution_count": 5,
   "id": "a0ac7eec-62aa-4058-84fe-0b480454cbd1",
   "metadata": {},
   "outputs": [
    {
     "data": {
      "text/plain": [
       "array([ 0,  1,  2,  3,  4,  5,  6,  7,  8,  9, 10, 11])"
      ]
     },
     "execution_count": 5,
     "metadata": {},
     "output_type": "execute_result"
    }
   ],
   "source": [
    "a"
   ]
  },
  {
   "cell_type": "code",
   "execution_count": 6,
   "id": "fda94874-6ea6-4376-9c51-478d7417e340",
   "metadata": {},
   "outputs": [
    {
     "data": {
      "text/plain": [
       "array([[ 0,  1,  2],\n",
       "       [ 3,  4,  5],\n",
       "       [ 6,  7,  8],\n",
       "       [ 9, 10, 11]])"
      ]
     },
     "execution_count": 6,
     "metadata": {},
     "output_type": "execute_result"
    }
   ],
   "source": [
    "a.reshape(4,3)"
   ]
  },
  {
   "cell_type": "code",
   "execution_count": 7,
   "id": "ad705a46-02f4-4749-8af5-13babfe61431",
   "metadata": {},
   "outputs": [
    {
     "data": {
      "text/plain": [
       "array([[[ 0,  1],\n",
       "        [ 2,  3],\n",
       "        [ 4,  5]],\n",
       "\n",
       "       [[ 6,  7],\n",
       "        [ 8,  9],\n",
       "        [10, 11]]])"
      ]
     },
     "execution_count": 7,
     "metadata": {},
     "output_type": "execute_result"
    }
   ],
   "source": [
    "a.reshape(2 ,3,2)"
   ]
  },
  {
   "cell_type": "code",
   "execution_count": null,
   "id": "f1a5d4cd-4af7-4a7a-b4af-87eb2990145d",
   "metadata": {},
   "outputs": [],
   "source": []
  }
 ],
 "metadata": {
  "kernelspec": {
   "display_name": "Python 3 (ipykernel)",
   "language": "python",
   "name": "python3"
  },
  "language_info": {
   "codemirror_mode": {
    "name": "ipython",
    "version": 3
   },
   "file_extension": ".py",
   "mimetype": "text/x-python",
   "name": "python",
   "nbconvert_exporter": "python",
   "pygments_lexer": "ipython3",
   "version": "3.12.3"
  }
 },
 "nbformat": 4,
 "nbformat_minor": 5
}
