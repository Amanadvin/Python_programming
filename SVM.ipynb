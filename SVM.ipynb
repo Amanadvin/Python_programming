{
 "cells": [
  {
   "cell_type": "code",
   "execution_count": 1,
   "id": "4bcc9d98-c2ea-477e-ac25-6ff88739aa70",
   "metadata": {},
   "outputs": [],
   "source": [
    "from sklearn.datasets import load_iris"
   ]
  },
  {
   "cell_type": "code",
   "execution_count": 2,
   "id": "b9aaf871-9372-401c-8f3d-1ccf27005f93",
   "metadata": {},
   "outputs": [],
   "source": [
    "i=load_iris()"
   ]
  },
  {
   "cell_type": "code",
   "execution_count": 3,
   "id": "df23906f-109c-4de9-bfa1-5363b5f7e130",
   "metadata": {},
   "outputs": [
    {
     "data": {
      "text/plain": [
       "['DESCR',\n",
       " 'data',\n",
       " 'data_module',\n",
       " 'feature_names',\n",
       " 'filename',\n",
       " 'frame',\n",
       " 'target',\n",
       " 'target_names']"
      ]
     },
     "execution_count": 3,
     "metadata": {},
     "output_type": "execute_result"
    }
   ],
   "source": [
    "dir(i)"
   ]
  },
  {
   "cell_type": "code",
   "execution_count": 4,
   "id": "ca68caa4-96c4-4439-9871-e974224974df",
   "metadata": {},
   "outputs": [],
   "source": [
    "x=i.data"
   ]
  },
  {
   "cell_type": "code",
   "execution_count": 5,
   "id": "adb9f830-2722-4f29-bc23-99ff80af4ff3",
   "metadata": {},
   "outputs": [],
   "source": [
    "y=i.target"
   ]
  },
  {
   "cell_type": "code",
   "execution_count": 14,
   "id": "571af831-4ec9-4126-b3f5-b97cf423c632",
   "metadata": {},
   "outputs": [],
   "source": [
    "from sklearn.model_selection import train_test_split"
   ]
  },
  {
   "cell_type": "code",
   "execution_count": 15,
   "id": "85237ecc-1735-4291-b999-3871c97d71bb",
   "metadata": {},
   "outputs": [],
   "source": [
    " train_x,test_x,train_y,test_y=train_test_split(x,y,test_size = 0.2 )"
   ]
  },
  {
   "cell_type": "code",
   "execution_count": 17,
   "id": "1fe9e107-efc1-4fe0-a960-90e04483204d",
   "metadata": {},
   "outputs": [
    {
     "data": {
      "text/plain": [
       "(120, 30)"
      ]
     },
     "execution_count": 17,
     "metadata": {},
     "output_type": "execute_result"
    }
   ],
   "source": [
    "len(train_x),len(test_x)"
   ]
  },
  {
   "cell_type": "code",
   "execution_count": null,
   "id": "c55cc479-ddbb-44af-8c39-370cf9e56cc5",
   "metadata": {},
   "outputs": [],
   "source": []
  }
 ],
 "metadata": {
  "kernelspec": {
   "display_name": "Python 3 (ipykernel)",
   "language": "python",
   "name": "python3"
  },
  "language_info": {
   "codemirror_mode": {
    "name": "ipython",
    "version": 3
   },
   "file_extension": ".py",
   "mimetype": "text/x-python",
   "name": "python",
   "nbconvert_exporter": "python",
   "pygments_lexer": "ipython3",
   "version": "3.12.3"
  }
 },
 "nbformat": 4,
 "nbformat_minor": 5
}
